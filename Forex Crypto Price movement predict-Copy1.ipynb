{
 "cells": [
  {
   "cell_type": "code",
   "execution_count": null,
   "id": "b9a8131f",
   "metadata": {},
   "outputs": [],
   "source": [
    "# Yahoo Finance Library Installation\n",
    "#!pip install yfinance"
   ]
  },
  {
   "cell_type": "code",
   "execution_count": null,
   "id": "371d4bd0",
   "metadata": {},
   "outputs": [],
   "source": [
    "#pip install pathlib"
   ]
  },
  {
   "cell_type": "code",
   "execution_count": null,
   "id": "28031d0c",
   "metadata": {},
   "outputs": [],
   "source": [
    "#Import Libraries\n",
    "\n",
    "# For data manipulation\n",
    "import numpy as np\n",
    "import pandas as pd\n",
    "import datetime\n",
    "\n",
    "# To fetch financial data\n",
    "import yfinance as yf\n",
    "\n",
    "# For visualisation\n",
    "import matplotlib.pyplot as plt\n",
    "plt.style.use('seaborn-darkgrid')\n",
    "%matplotlib inline"
   ]
  },
  {
   "cell_type": "code",
   "execution_count": null,
   "id": "8ced5040",
   "metadata": {},
   "outputs": [],
   "source": [
    "#Daily Forex Price Data\n",
    "\n",
    "# Set the ticker as 'GBPUSD=X' and interval as '30m'\n",
    "forex_data = yf.download('GBPUSD=X', start='2022-01-01', end=datetime.datetime.now().strftime(\"%Y-%m-%d\"), interval='1h')\n",
    "forex_data_2 = yf.download('GBPUSD=X', start='2017-01-01', end=datetime.datetime.now().strftime(\"%Y-%m-%d\"))\n",
    "\n",
    "# Set the index to a datetime object\n",
    "forex_data.index = pd.to_datetime(forex_data.index)\n",
    "forex_data_2.index = pd.to_datetime(forex_data_2.index)\n",
    "\n",
    "# Display the last five rows\n",
    "forex_data.tail()\n"
   ]
  },
  {
   "cell_type": "code",
   "execution_count": null,
   "id": "b6dcf804",
   "metadata": {},
   "outputs": [],
   "source": [
    "forex_data_2.tail()"
   ]
  },
  {
   "cell_type": "code",
   "execution_count": null,
   "id": "0a5c3d8f",
   "metadata": {},
   "outputs": [],
   "source": [
    "# Display the first five rows\n",
    "forex_data.head()"
   ]
  },
  {
   "cell_type": "code",
   "execution_count": null,
   "id": "5f0832c1",
   "metadata": {},
   "outputs": [],
   "source": [
    "forex_data_2.head()"
   ]
  },
  {
   "cell_type": "code",
   "execution_count": null,
   "id": "69d098a1",
   "metadata": {},
   "outputs": [],
   "source": [
    "forex_data.to_csv(\"gbpusd1h.csv\")"
   ]
  },
  {
   "cell_type": "code",
   "execution_count": null,
   "id": "1354ecae",
   "metadata": {},
   "outputs": [],
   "source": [
    "forex_data_2.to_csv(\"gbpusddaily.csv\")"
   ]
  },
  {
   "cell_type": "code",
   "execution_count": null,
   "id": "0d447298",
   "metadata": {},
   "outputs": [],
   "source": [
    "#Plot the Close Price\n",
    "\n",
    "# Plot the close price\n",
    "plt.figure(figsize=(15, 7))\n",
    "forex_data['Adj Close'].plot()\n",
    "\n",
    "# Set the title and axis label\n",
    "plt.title('GBP/USD Data', fontsize=16)\n",
    "plt.xlabel('Year-Month', fontsize=15)\n",
    "plt.ylabel('Price', fontsize=15)\n",
    "plt.xticks(fontsize=15)\n",
    "plt.yticks(fontsize=15)\n",
    "plt.legend(['Close'], prop={'size': 15})\n",
    "\n",
    "# Show the plot\n",
    "plt.show()"
   ]
  },
  {
   "cell_type": "code",
   "execution_count": null,
   "id": "15284ebd",
   "metadata": {},
   "outputs": [],
   "source": [
    "#Minute FX Price Data\n",
    "\n",
    "# Set the ticker as 'GBPUSD=X'\n",
    "forex_data_minute = yf.download('GBPUSD=X', period='5d', interval='5m')\n",
    "\n",
    "# Set the index to a datetime object\n",
    "forex_data_minute.index = pd.to_datetime(forex_data_minute.index)\n",
    "\n",
    "# Display the last five rows\n",
    "forex_data_minute.tail()"
   ]
  },
  {
   "cell_type": "code",
   "execution_count": null,
   "id": "40d3bddd",
   "metadata": {},
   "outputs": [],
   "source": [
    "#Plot the Minute Close Price\n",
    "\n",
    "# Transform index type from datetime to string\n",
    "forex_data_minute['dates'] = forex_data_minute.index.strftime(\n",
    "    '%Y-%m-%d %H:%M:%S')\n",
    "\n",
    "# Plot the series\n",
    "fig, ax = plt.subplots(figsize=(15, 7))\n",
    "ax.plot(forex_data_minute['dates'], forex_data_minute['Adj Close'])\n",
    "\n",
    "# Set title and axis label\n",
    "plt.title('GBP/USD Data', fontsize=16)\n",
    "plt.xlabel('Time', fontsize=15)\n",
    "plt.ylabel('Price', fontsize=15)\n",
    "plt.xticks(fontsize=15)\n",
    "plt.yticks(fontsize=15)\n",
    "plt.legend(['Close'], prop={'size': 15})\n",
    "\n",
    "# Set maximum number of tick locators\n",
    "ax.xaxis.set_major_locator(plt.MaxNLocator(10))\n",
    "plt.xticks(rotation=45)\n",
    "\n",
    "# Show the plot\n",
    "plt.show()"
   ]
  },
  {
   "cell_type": "code",
   "execution_count": null,
   "id": "c6da6ecc",
   "metadata": {},
   "outputs": [],
   "source": [
    "#Daily Data of Two Forex Pairs\n",
    "\n",
    "# Set the ticker as 'EURUSD=X'\n",
    "forex_data = yf.download(['EURUSD=X', 'GBPUSD=X'],\n",
    "                         start='2019-01-02', end='2021-12-31', group_by='ticker')\n",
    "\n",
    "# Set the index to a datetime object\n",
    "forex_data.index = pd.to_datetime(forex_data.index)\n",
    "\n",
    "# Display the last five rows\n",
    "forex_data.tail()"
   ]
  },
  {
   "cell_type": "code",
   "execution_count": null,
   "id": "757751d3",
   "metadata": {},
   "outputs": [],
   "source": [
    "#Plot the Two Forex Pairs\n",
    "\n",
    "#Plot the close price\n",
    "ax = plt.figure(figsize=(15, 7))\n",
    "\n",
    "# Plot both forex pairs\n",
    "ax = forex_data['EURUSD=X']['Close'].plot(label='EUR/USD')\n",
    "ax2 = forex_data['GBPUSD=X']['Close'].plot(secondary_y=True, color='g',  ax=ax, label='GBP/USD')\n",
    "\n",
    "# Set the title and axis labels\n",
    "plt.title('EUR/USD and GBP/USD Data', fontsize=16)\n",
    "ax.set_xlabel('Year-Month', fontsize=15)\n",
    "ax.set_ylabel('Close Prices', fontsize=15)\n",
    "ax2.set_ylabel('Close Prices', fontsize=15)\n",
    "ax.tick_params(axis='both', labelsize=15)\n",
    "h1, l1 = ax.get_legend_handles_labels()\n",
    "h2, l2 = ax2.get_legend_handles_labels()\n",
    "ax.legend(h1+h2, l1+l2, loc=2, prop={'size': 15})\n",
    "\n",
    "# Save the figure\n",
    "plt.savefig('EURUSD_and_GBPUSD_Daily_Data.png', bbox_inches = 'tight')\n",
    "#ax.savefig('Figures/EURUSD_and_GBPUSD_Daily_Data.png', format='png')\n",
    "# Show the plot\n",
    "plt.show()"
   ]
  },
  {
   "cell_type": "code",
   "execution_count": null,
   "id": "41748b94",
   "metadata": {},
   "outputs": [],
   "source": []
  },
  {
   "cell_type": "code",
   "execution_count": null,
   "id": "2ed1fb1d",
   "metadata": {},
   "outputs": [],
   "source": [
    "import pandas as pd\n",
    "import numpy as np\n",
    "from sklearn.linear_model import LinearRegression"
   ]
  },
  {
   "cell_type": "code",
   "execution_count": null,
   "id": "f8315b08",
   "metadata": {},
   "outputs": [],
   "source": [
    "def collect_data():\n",
    "    # Collect historical forex prices from a data source.\n",
    "    df = pd.read_csv('gbpusddaily.csv')\n",
    "    return df"
   ]
  },
  {
   "cell_type": "code",
   "execution_count": null,
   "id": "d68a98d8",
   "metadata": {},
   "outputs": [],
   "source": [
    "def clean_data(df):\n",
    "    # Remove duplicate data, correct errors, and transform the data into a format that can be used by machine learning algorithms.\n",
    "    df.drop_duplicates()\n",
    "    df.fillna(0)\n",
    "    df = df.astype(float)\n",
    "    return df"
   ]
  },
  {
   "cell_type": "code",
   "execution_count": null,
   "id": "f474a0c4",
   "metadata": {},
   "outputs": [],
   "source": [
    "def choose_algorithm(df):\n",
    "    # Choose a machine learning algorithm to predict forex prices.\n",
    "    lr = LinearRegression()\n",
    "    return lr"
   ]
  },
  {
   "cell_type": "code",
   "execution_count": null,
   "id": "31e9c005",
   "metadata": {},
   "outputs": [],
   "source": [
    "\n",
    "def train_algorithm(algorithm, df):\n",
    "    # Train the machine learning algorithm on the historical data.\n",
    "    algorithm.fit(df['x'], df['y'])\n",
    "    return algorithm"
   ]
  },
  {
   "cell_type": "code",
   "execution_count": null,
   "id": "2e97affb",
   "metadata": {},
   "outputs": [],
   "source": [
    "def test_algorithm(algorithm, df):\n",
    "    # Test the machine learning algorithm on a separate data set.\n",
    "    predictions = algorithm.predict(df['x'])\n",
    "    return predictions"
   ]
  },
  {
   "cell_type": "code",
   "execution_count": null,
   "id": "6a0107ef",
   "metadata": {},
   "outputs": [],
   "source": [
    "def deploy_algorithm(algorithm):\n",
    "    # Deploy the machine learning algorithm to make predictions on real-time forex data.\n",
    "    pass"
   ]
  },
  {
   "cell_type": "code",
   "execution_count": null,
   "id": "e58a3e7b",
   "metadata": {},
   "outputs": [],
   "source": [
    "if __name__ == '__main__':\n",
    "    df = collect_data()\n",
    "    df = clean_data(df)\n",
    "    algorithm = choose_algorithm(df)\n",
    "    algorithm = train_algorithm(algorithm, df)\n",
    "    predictions = test_algorithm(algorithm, df)\n",
    "    deploy_algorithm(algorithm)\n"
   ]
  },
  {
   "cell_type": "code",
   "execution_count": null,
   "id": "5e1af331",
   "metadata": {},
   "outputs": [],
   "source": []
  },
  {
   "cell_type": "code",
   "execution_count": null,
   "id": "f3adfdd0",
   "metadata": {},
   "outputs": [],
   "source": [
    "# Step 1: Define the Problem"
   ]
  },
  {
   "cell_type": "code",
   "execution_count": null,
   "id": "3a0d9bb1",
   "metadata": {},
   "outputs": [],
   "source": [
    "# Step 2: Gather Data"
   ]
  },
  {
   "cell_type": "code",
   "execution_count": 1,
   "id": "bedb7fa9",
   "metadata": {},
   "outputs": [],
   "source": [
    "# Step 3: Data Preprocessing"
   ]
  },
  {
   "cell_type": "code",
   "execution_count": 2,
   "id": "b57d970c",
   "metadata": {},
   "outputs": [],
   "source": [
    "import pandas as pd\n",
    "from sklearn.preprocessing import MinMaxScaler"
   ]
  },
  {
   "cell_type": "code",
   "execution_count": 3,
   "id": "a89712b7",
   "metadata": {},
   "outputs": [],
   "source": [
    "# Load data from a CSV file\n",
    "data = pd.read_csv('gbpusddaily.csv')"
   ]
  },
  {
   "cell_type": "code",
   "execution_count": 4,
   "id": "5cc45835",
   "metadata": {},
   "outputs": [],
   "source": [
    "# Handle missing values\n",
    "data = data.dropna()"
   ]
  },
  {
   "cell_type": "code",
   "execution_count": 5,
   "id": "9d94d661",
   "metadata": {},
   "outputs": [],
   "source": [
    "data.drop([\"Date\"] , axis = 1 , inplace = True)"
   ]
  },
  {
   "cell_type": "code",
   "execution_count": 6,
   "id": "d1363c0f",
   "metadata": {},
   "outputs": [],
   "source": [
    "data['price_movement'] = data['Close']"
   ]
  },
  {
   "cell_type": "code",
   "execution_count": 7,
   "id": "68b46f3c",
   "metadata": {},
   "outputs": [],
   "source": [
    "# Normalize data\n",
    "scaler = MinMaxScaler()\n",
    "normalized_data = scaler.fit_transform(data)"
   ]
  },
  {
   "cell_type": "code",
   "execution_count": 8,
   "id": "e1c8c690",
   "metadata": {},
   "outputs": [],
   "source": [
    "#pip install ta"
   ]
  },
  {
   "cell_type": "code",
   "execution_count": 9,
   "id": "b8cb7f3a",
   "metadata": {},
   "outputs": [],
   "source": [
    "# Step 4: Feature Engineering\n",
    "\n",
    "import ta"
   ]
  },
  {
   "cell_type": "code",
   "execution_count": 10,
   "id": "10677249",
   "metadata": {},
   "outputs": [
    {
     "data": {
      "text/plain": [
       "Open              0\n",
       "High              0\n",
       "Low               0\n",
       "Close             0\n",
       "Adj Close         0\n",
       "Volume            0\n",
       "price_movement    0\n",
       "dtype: int64"
      ]
     },
     "execution_count": 10,
     "metadata": {},
     "output_type": "execute_result"
    }
   ],
   "source": [
    "data.isnull().sum()"
   ]
  },
  {
   "cell_type": "code",
   "execution_count": null,
   "id": "73124329",
   "metadata": {},
   "outputs": [],
   "source": []
  },
  {
   "cell_type": "code",
   "execution_count": 11,
   "id": "cff763df",
   "metadata": {},
   "outputs": [],
   "source": [
    "# Compute technical indicators\n",
    "data['RSI'] = ta.momentum.RSIIndicator(data['Close']).rsi()"
   ]
  },
  {
   "cell_type": "code",
   "execution_count": 12,
   "id": "eca840d7",
   "metadata": {},
   "outputs": [],
   "source": [
    "data.fillna(value=0, inplace=True)"
   ]
  },
  {
   "cell_type": "code",
   "execution_count": 13,
   "id": "32ce03a1",
   "metadata": {},
   "outputs": [
    {
     "data": {
      "text/plain": [
       "Open              0\n",
       "High              0\n",
       "Low               0\n",
       "Close             0\n",
       "Adj Close         0\n",
       "Volume            0\n",
       "price_movement    0\n",
       "RSI               0\n",
       "dtype: int64"
      ]
     },
     "execution_count": 13,
     "metadata": {},
     "output_type": "execute_result"
    }
   ],
   "source": [
    "data.isnull().sum()"
   ]
  },
  {
   "cell_type": "code",
   "execution_count": 14,
   "id": "0694c88f",
   "metadata": {},
   "outputs": [],
   "source": [
    "# Step 5: Split Data\n",
    "\n",
    "from sklearn.model_selection import train_test_split"
   ]
  },
  {
   "cell_type": "code",
   "execution_count": 15,
   "id": "2d547a5a",
   "metadata": {},
   "outputs": [],
   "source": [
    "# Split data into training, validation, and testing sets\n",
    "train_data, test_data = train_test_split(data, test_size=0.2)\n",
    "train_data, val_data = train_test_split(train_data, test_size=0.2)"
   ]
  },
  {
   "cell_type": "code",
   "execution_count": 16,
   "id": "8a0b1e87",
   "metadata": {},
   "outputs": [],
   "source": [
    "# Step 6: Choose an ML Algorithm\n",
    "\n",
    "from sklearn.linear_model import LogisticRegression"
   ]
  },
  {
   "cell_type": "code",
   "execution_count": 17,
   "id": "f0f1623d",
   "metadata": {},
   "outputs": [],
   "source": [
    "# Create an instance of the ML algorithm\n",
    "model = LogisticRegression()"
   ]
  },
  {
   "cell_type": "code",
   "execution_count": 18,
   "id": "42fd20b7",
   "metadata": {},
   "outputs": [],
   "source": [
    "# Step 7: Train the Model\n",
    "\n",
    "# Separate features and target variable\n",
    "train_features = train_data[['RSI']]\n",
    "train_target = train_data['price_movement']"
   ]
  },
  {
   "cell_type": "code",
   "execution_count": 19,
   "id": "eeafe667",
   "metadata": {},
   "outputs": [
    {
     "ename": "ValueError",
     "evalue": "Unknown label type: 'continuous'",
     "output_type": "error",
     "traceback": [
      "\u001b[1;31m---------------------------------------------------------------------------\u001b[0m",
      "\u001b[1;31mValueError\u001b[0m                                Traceback (most recent call last)",
      "\u001b[1;32m~\\AppData\\Local\\Temp/ipykernel_2660/3158061214.py\u001b[0m in \u001b[0;36m<module>\u001b[1;34m\u001b[0m\n\u001b[0;32m      1\u001b[0m \u001b[1;31m# Train the model\u001b[0m\u001b[1;33m\u001b[0m\u001b[1;33m\u001b[0m\u001b[0m\n\u001b[1;32m----> 2\u001b[1;33m \u001b[0mmodel\u001b[0m\u001b[1;33m.\u001b[0m\u001b[0mfit\u001b[0m\u001b[1;33m(\u001b[0m\u001b[0mtrain_features\u001b[0m\u001b[1;33m,\u001b[0m \u001b[0mtrain_target\u001b[0m\u001b[1;33m)\u001b[0m\u001b[1;33m\u001b[0m\u001b[1;33m\u001b[0m\u001b[0m\n\u001b[0m",
      "\u001b[1;32m~\\anaconda3\\lib\\site-packages\\sklearn\\linear_model\\_logistic.py\u001b[0m in \u001b[0;36mfit\u001b[1;34m(self, X, y, sample_weight)\u001b[0m\n\u001b[0;32m   1202\u001b[0m             \u001b[0maccept_large_sparse\u001b[0m\u001b[1;33m=\u001b[0m\u001b[0msolver\u001b[0m \u001b[1;32mnot\u001b[0m \u001b[1;32min\u001b[0m \u001b[1;33m[\u001b[0m\u001b[1;34m\"liblinear\"\u001b[0m\u001b[1;33m,\u001b[0m \u001b[1;34m\"sag\"\u001b[0m\u001b[1;33m,\u001b[0m \u001b[1;34m\"saga\"\u001b[0m\u001b[1;33m]\u001b[0m\u001b[1;33m,\u001b[0m\u001b[1;33m\u001b[0m\u001b[1;33m\u001b[0m\u001b[0m\n\u001b[0;32m   1203\u001b[0m         )\n\u001b[1;32m-> 1204\u001b[1;33m         \u001b[0mcheck_classification_targets\u001b[0m\u001b[1;33m(\u001b[0m\u001b[0my\u001b[0m\u001b[1;33m)\u001b[0m\u001b[1;33m\u001b[0m\u001b[1;33m\u001b[0m\u001b[0m\n\u001b[0m\u001b[0;32m   1205\u001b[0m         \u001b[0mself\u001b[0m\u001b[1;33m.\u001b[0m\u001b[0mclasses_\u001b[0m \u001b[1;33m=\u001b[0m \u001b[0mnp\u001b[0m\u001b[1;33m.\u001b[0m\u001b[0munique\u001b[0m\u001b[1;33m(\u001b[0m\u001b[0my\u001b[0m\u001b[1;33m)\u001b[0m\u001b[1;33m\u001b[0m\u001b[1;33m\u001b[0m\u001b[0m\n\u001b[0;32m   1206\u001b[0m \u001b[1;33m\u001b[0m\u001b[0m\n",
      "\u001b[1;32m~\\anaconda3\\lib\\site-packages\\sklearn\\utils\\multiclass.py\u001b[0m in \u001b[0;36mcheck_classification_targets\u001b[1;34m(y)\u001b[0m\n\u001b[0;32m    216\u001b[0m         \u001b[1;34m\"multilabel-sequences\"\u001b[0m\u001b[1;33m,\u001b[0m\u001b[1;33m\u001b[0m\u001b[1;33m\u001b[0m\u001b[0m\n\u001b[0;32m    217\u001b[0m     ]:\n\u001b[1;32m--> 218\u001b[1;33m         \u001b[1;32mraise\u001b[0m \u001b[0mValueError\u001b[0m\u001b[1;33m(\u001b[0m\u001b[1;34m\"Unknown label type: %r\"\u001b[0m \u001b[1;33m%\u001b[0m \u001b[0my_type\u001b[0m\u001b[1;33m)\u001b[0m\u001b[1;33m\u001b[0m\u001b[1;33m\u001b[0m\u001b[0m\n\u001b[0m\u001b[0;32m    219\u001b[0m \u001b[1;33m\u001b[0m\u001b[0m\n\u001b[0;32m    220\u001b[0m \u001b[1;33m\u001b[0m\u001b[0m\n",
      "\u001b[1;31mValueError\u001b[0m: Unknown label type: 'continuous'"
     ]
    }
   ],
   "source": [
    "# Train the model\n",
    "model.fit(train_features, train_target)"
   ]
  },
  {
   "cell_type": "code",
   "execution_count": null,
   "id": "9bb198b7",
   "metadata": {},
   "outputs": [],
   "source": [
    "#forex_data.dropna(inplace=True)\n",
    "data.isnull().sum()"
   ]
  },
  {
   "cell_type": "code",
   "execution_count": null,
   "id": "8d818697",
   "metadata": {},
   "outputs": [],
   "source": []
  },
  {
   "cell_type": "code",
   "execution_count": null,
   "id": "625e7918",
   "metadata": {},
   "outputs": [],
   "source": [
    "data.fillna(value=0, inplace=True)"
   ]
  },
  {
   "cell_type": "code",
   "execution_count": null,
   "id": "100674e9",
   "metadata": {},
   "outputs": [],
   "source": [
    "data.isnull().sum()"
   ]
  },
  {
   "cell_type": "code",
   "execution_count": null,
   "id": "2c7c2dc3",
   "metadata": {},
   "outputs": [],
   "source": [
    "# Step 8: Validate and Tune the Model\n",
    "\n",
    "# Separate validation features and target variable\n",
    "val_features = val_data[['RSI']]\n",
    "val_target = val_data['price_movement']"
   ]
  },
  {
   "cell_type": "code",
   "execution_count": null,
   "id": "b3509c55",
   "metadata": {},
   "outputs": [],
   "source": [
    "# Evaluate the model\n",
    "accuracy = model.score(val_features, val_target)"
   ]
  },
  {
   "cell_type": "code",
   "execution_count": null,
   "id": "8a3f6d1f",
   "metadata": {},
   "outputs": [],
   "source": [
    "# Step 9: Evaluate the Model\n",
    "\n",
    "# Separate testing features and target variable\n",
    "test_features = test_data[['RSI']]\n",
    "test_target = test_data['price_movement']"
   ]
  },
  {
   "cell_type": "code",
   "execution_count": null,
   "id": "76845350",
   "metadata": {},
   "outputs": [],
   "source": [
    "# Evaluate the model on the testing set\n",
    "accuracy = model.score(test_features, test_target)"
   ]
  },
  {
   "cell_type": "code",
   "execution_count": null,
   "id": "8fad644e",
   "metadata": {},
   "outputs": [],
   "source": [
    "# Step 10: Deploy and Monitor\n",
    "\n",
    "# Integrate the model into a forex trading platform or system\n",
    "\n",
    "# Monitor the bot's performance\n",
    "\n",
    "# Step 11: Continuously Improve\n",
    "\n",
    "# Retrain and update the model periodically using new data\n",
    "\n",
    "# Collect feedback and iterate on the model"
   ]
  },
  {
   "cell_type": "code",
   "execution_count": null,
   "id": "17acb13c",
   "metadata": {},
   "outputs": [],
   "source": []
  },
  {
   "cell_type": "code",
   "execution_count": null,
   "id": "a8be48a6",
   "metadata": {},
   "outputs": [],
   "source": []
  },
  {
   "cell_type": "code",
   "execution_count": null,
   "id": "af8cfdfa",
   "metadata": {},
   "outputs": [],
   "source": [
    "# Step 1: Define the Problem\n",
    "\n",
    "# Step 2: Gather Data\n",
    "\n",
    "# Step 3: Data Preprocessing\n",
    "\n",
    "import pandas as pd\n",
    "from sklearn.preprocessing import MinMaxScaler\n",
    "\n",
    "# Load data from a CSV file\n",
    "data = pd.read_csv('forex_data.csv')\n",
    "\n",
    "# Handle missing values\n",
    "data = data.dropna()\n",
    "\n",
    "# Normalize data\n",
    "scaler = MinMaxScaler()\n",
    "normalized_data = scaler.fit_transform(data)\n",
    "\n",
    "# Step 4: Feature Engineering\n",
    "\n",
    "import ta\n",
    "\n",
    "# Compute technical indicators\n",
    "data['RSI'] = ta.momentum.RSIIndicator(data['close']).rsi()\n",
    "\n",
    "# Step 5: Split Data\n",
    "\n",
    "from sklearn.model_selection import train_test_split\n",
    "\n",
    "# Split data into training, validation, and testing sets\n",
    "train_data, test_data = train_test_split(data, test_size=0.2)\n",
    "train_data, val_data = train_test_split(train_data, test_size=0.2)\n",
    "\n",
    "# Step 6: Choose an ML Algorithm\n",
    "\n",
    "from sklearn.linear_model import LogisticRegression\n",
    "\n",
    "# Create an instance of the ML algorithm\n",
    "model = LogisticRegression()\n",
    "\n",
    "# Step 7: Train the Model\n",
    "\n",
    "# Separate features and target variable\n",
    "train_features = train_data[['RSI']]\n",
    "train_target = train_data['price_movement']\n",
    "\n",
    "# Train the model\n",
    "model.fit(train_features, train_target)\n",
    "\n",
    "# Step 8: Validate and Tune the Model\n",
    "\n",
    "# Separate validation features and target variable\n",
    "val_features = val_data[['RSI']]\n",
    "val_target = val_data['price_movement']\n",
    "\n",
    "# Evaluate the model\n",
    "accuracy = model.score(val_features, val_target)\n",
    "\n",
    "# Step 9: Evaluate the Model\n",
    "\n",
    "# Separate testing features and target variable\n",
    "test_features = test_data[['RSI']]\n",
    "test_target = test_data['price_movement']\n",
    "\n",
    "# Evaluate the model on the testing set\n",
    "accuracy = model.score(test_features, test_target)\n",
    "\n",
    "# Step 10: Deploy and Monitor\n",
    "\n",
    "# Integrate the model into a forex trading platform or system\n",
    "\n",
    "# Monitor the bot's performance\n",
    "\n",
    "# Step 11: Continuously Improve\n",
    "\n",
    "# Retrain and update the model periodically using new data\n",
    "\n",
    "# Collect feedback and iterate on the model\n",
    "\n"
   ]
  },
  {
   "cell_type": "code",
   "execution_count": null,
   "id": "4feb3933",
   "metadata": {},
   "outputs": [],
   "source": []
  },
  {
   "cell_type": "code",
   "execution_count": null,
   "id": "a05ce62d",
   "metadata": {},
   "outputs": [],
   "source": [
    "# Retrain and update the model periodically using new data\n",
    "\n",
    "# Import the necessary libraries\n",
    "import pandas as pd\n",
    "from sklearn.linear_model import LogisticRegression\n",
    "from sklearn.model_selection import train_test_split\n",
    "from sklearn.metrics import accuracy_score\n",
    "\n",
    "# Load the existing model\n",
    "model = LogisticRegression()\n",
    "model.load('saved_model.pkl')\n",
    "\n",
    "# Load new data for retraining\n",
    "new_data = pd.read_csv('new_forex_data.csv')\n",
    "\n",
    "# Preprocess the new data\n",
    "# ...\n",
    "\n",
    "# Feature engineering on the new data\n",
    "# ...\n",
    "\n",
    "# Split the new data into features and target variable\n",
    "new_features = new_data[['RSI']]\n",
    "new_target = new_data['price_movement']\n",
    "\n",
    "# Retrain the model with the new data\n",
    "model.fit(new_features, new_target)\n",
    "\n",
    "# Save the updated model\n",
    "model.save('updated_model.pkl')\n",
    "\n",
    "# Evaluate the updated model on a validation or testing set\n",
    "# Load the validation/testing data\n",
    "val_data = pd.read_csv('validation_data.csv')\n",
    "\n",
    "# Preprocess the validation/testing data\n",
    "# ...\n",
    "\n",
    "# Feature engineering on the validation/testing data\n",
    "# ...\n",
    "\n",
    "# Split the validation/testing data into features and target variable\n",
    "val_features = val_data[['RSI']]\n",
    "val_target = val_data['price_movement']\n",
    "\n",
    "# Make predictions using the updated model\n",
    "updated_predictions = model.predict(val_features)\n",
    "\n",
    "# Calculate the accuracy of the updated model\n",
    "updated_accuracy = accuracy_score(val_target, updated_predictions)\n"
   ]
  },
  {
   "cell_type": "code",
   "execution_count": null,
   "id": "39c8f9ba",
   "metadata": {},
   "outputs": [],
   "source": [
    "#In this code snippet, we assume that you have already trained and saved the initial model using the steps mentioned earlier. Then, you load the saved model, load the new data for retraining, preprocess the new data, and perform feature engineering on the new data.\n",
    "\n",
    "#Next, split the new data into features and the target variable. Use the fit method to retrain the model with the new data. Save the updated model for future use.\n",
    "\n",
    "#To evaluate the updated model, you can load a validation or testing dataset, preprocess and perform feature engineering on it, split it into features and the target variable, and then use the predict method to make predictions. Finally, calculate the accuracy of the updated model by comparing the predicted values with the true values.\n",
    "\n",
    "#Remember to adapt this code according to your specific requirements and the ML algorithm you are using."
   ]
  },
  {
   "cell_type": "code",
   "execution_count": null,
   "id": "7c17f384",
   "metadata": {},
   "outputs": [],
   "source": []
  },
  {
   "cell_type": "code",
   "execution_count": null,
   "id": "bcc58eb7",
   "metadata": {},
   "outputs": [],
   "source": [
    "# Collect feedback for new data\n",
    "import time\n",
    "import pandas as pd\n",
    "\n",
    "# Define the interval for fetching new data (in seconds)\n",
    "fetch_interval = 1800  # Fetch data every 30 mins\n",
    "\n",
    "while True:\n",
    "    # Fetch new data (replace this with your data fetching mechanism)\n",
    "    new_data = fetch_new_data()\n",
    "\n",
    "    # Save the new data to a file (append to an existing file or create a new one)\n",
    "    with open('new_data.csv', 'a') as file:\n",
    "        new_data.to_csv(file, header=file.tell() == 0, index=False)\n",
    "\n",
    "    # Wait for the next fetch interval\n",
    "    time.sleep(fetch_interval)\n",
    "    \n",
    "    \n",
    "# Collect feedback for new data\n",
    "import time\n",
    "import pandas as pd\n",
    "\n",
    "# Define the interval for fetching new data (in seconds)\n",
    "fetch_interval = 300  # Fetch data every 5 mins\n",
    "\n",
    "while True:\n",
    "    # Fetch new data (replace this with your data fetching mechanism)\n",
    "    new_data = fetch_new_data()\n",
    "\n",
    "    # Save the new data to a file (append to an existing file or create a new one)\n",
    "    with open('new_data.csv', 'a') as file:\n",
    "        new_data.to_csv(file, header=file.tell() == 0, index=False)\n",
    "\n",
    "    # Wait for the next fetch interval\n",
    "    time.sleep(fetch_interval)\n"
   ]
  },
  {
   "cell_type": "code",
   "execution_count": null,
   "id": "90c31661",
   "metadata": {},
   "outputs": [],
   "source": [
    "\"\"\"\n",
    "In this code snippet, the fetch_new_data() function represents your mechanism for obtaining new data. You can replace it with the appropriate code to fetch data from an API, database, or any other source.\n",
    "\n",
    "The code opens a file in append mode ('a') and uses the to_csv() method of pandas DataFrame to save the new data to the file. The header argument is set to file.tell() == 0 to write the header row only if the file is empty (i.e., it's the first write operation).\n",
    "\n",
    "The loop continues indefinitely using while True, fetching and saving new data in the specified interval (fetch_interval). You can modify the fetch_interval variable to suit your desired interval for fetching new data.\n",
    "\n",
    "Remember to adapt this code to your specific data fetching mechanism, data format, and file-saving requirements. Additionally, make sure to handle exceptions and errors appropriately to ensure the code runs smoothly and safely.\n",
    "\"\"\""
   ]
  },
  {
   "cell_type": "code",
   "execution_count": null,
   "id": "9f71acb4",
   "metadata": {},
   "outputs": [],
   "source": []
  },
  {
   "cell_type": "code",
   "execution_count": null,
   "id": "9e0bf4f1",
   "metadata": {},
   "outputs": [],
   "source": [
    "import time\n",
    "import pandas as pd\n",
    "import yfinance as yf\n",
    "from sklearn.linear_model import LinearRegression\n",
    "\n",
    "# Set up initial model\n",
    "model = LinearRegression()\n",
    "\n",
    "# Set up data pipeline\n",
    "def fetch_live_data():\n",
    "    # Fetch live data from a reliable source\n",
    "    forex_data = yf.download('GBPUSD=X', start='2017-01-01', end='2023-06-30')\n",
    "    forex_data.index = pd.to_datetime(forex_data.index)\n",
    "    return forex_data\n",
    "\n",
    "# Continuous prediction loop\n",
    "while True:\n",
    "    # Fetch new data\n",
    "    new_data = fetch_live_data()\n",
    "    \n",
    "    # Preprocess the new data\n",
    "    # ...\n",
    "\n",
    "    # Update the model with new data\n",
    "    # Combine new data with historical data\n",
    "    # ...\n",
    "\n",
    "    # Retrain the model\n",
    "    model.fit(X_train, y_train)\n",
    "    \n",
    "    # Make predictions on new data\n",
    "    predictions = model.predict(X_new)\n",
    "    \n",
    "    # Perform evaluation and monitoring\n",
    "    # ...\n",
    "\n",
    "    # Display predictions\n",
    "    print(\"Predictions:\", predictions)\n",
    "    \n",
    "    # Wait for a specific interval before fetching new data\n",
    "    time.sleep(3600)  # Wait for 1 hour before fetching new data again\n"
   ]
  },
  {
   "cell_type": "code",
   "execution_count": null,
   "id": "6b0a6844",
   "metadata": {},
   "outputs": [],
   "source": []
  }
 ],
 "metadata": {
  "kernelspec": {
   "display_name": "Python 3 (ipykernel)",
   "language": "python",
   "name": "python3"
  },
  "language_info": {
   "codemirror_mode": {
    "name": "ipython",
    "version": 3
   },
   "file_extension": ".py",
   "mimetype": "text/x-python",
   "name": "python",
   "nbconvert_exporter": "python",
   "pygments_lexer": "ipython3",
   "version": "3.9.7"
  }
 },
 "nbformat": 4,
 "nbformat_minor": 5
}
